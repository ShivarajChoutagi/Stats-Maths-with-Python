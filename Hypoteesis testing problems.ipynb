{
 "cells": [
  {
   "cell_type": "markdown",
   "id": "3667718a",
   "metadata": {},
   "source": [
    "# Q1: The breaking strengths of cables produced by a manufacturer have a mean of 815 kg (lb) anda standard deviation of 45 kg. By a new technique in the manufacturing process, it is claimed thatthe breaking strength can be increased. To test this claim, a sample of 50 cables is tested and it isfound that the mean breaking strength is 840 kg. Can we support the claim at the 0.01 significancelevel?\n",
    "\n",
    "\n",
    "\n",
    "\n"
   ]
  },
  {
   "cell_type": "markdown",
   "id": "cb19905f",
   "metadata": {},
   "source": [
    "#Step 1:\n",
    "H0: 𝜇=815 kg. and there is really no change in breaking strength\n",
    "Ha: 𝜇>815 kg. and there is a change in breaking strength\n",
    "\n",
    "\n",
    "\n",
    "#Step 2: Significance Level =0.01"
   ]
  },
  {
   "cell_type": "code",
   "execution_count": 1,
   "id": "195c7ba1",
   "metadata": {},
   "outputs": [
    {
     "data": {
      "text/plain": [
       "2.3263478740408408"
      ]
     },
     "execution_count": 1,
     "metadata": {},
     "output_type": "execute_result"
    }
   ],
   "source": [
    "# step 3: Compute z_critical\n",
    "import numpy as np\n",
    "from scipy.stats import norm\n",
    "z_critical=abs(norm.ppf(0.01))\n",
    "z_critical\n"
   ]
  },
  {
   "cell_type": "code",
   "execution_count": 3,
   "id": "60047030",
   "metadata": {},
   "outputs": [
    {
     "data": {
      "text/plain": [
       "3.928371006591931"
      ]
     },
     "execution_count": 3,
     "metadata": {},
     "output_type": "execute_result"
    }
   ],
   "source": [
    "\n",
    "# step 4:\n",
    "z_computed=((840-815)/45)*np.sqrt(50)\n",
    "z_computed\n",
    "#Since z_computed is greater than 2.3263478740408408, there fore reject Ho and  hence claim can be supported.\n"
   ]
  },
  {
   "cell_type": "code",
   "execution_count": 5,
   "id": "23a0f529",
   "metadata": {},
   "outputs": [
    {
     "data": {
      "image/png": "[encoded data removed]",
      "text/plain": [
       "<Figure size 432x288 with 1 Axes>"
      ]
     },
     "metadata": {
      "needs_background": "light"
     },
     "output_type": "display_data"
    }
   ],
   "source": [
    "import matplotlib.pyplot as plt\n",
    "import scipy.stats as stats\n",
    "import math\n",
    "\n",
    "\n",
    "mu = 0\n",
    "variance = 1\n",
    "sigma = math.sqrt(variance)\n",
    "x = np.linspace(mu - 3*sigma, mu + 3*sigma, 100)\n",
    "plt.fill_between(x,stats.norm.pdf(x, mu, sigma),where = (x>=2.33))\n",
    "plt.plot(x, stats.norm.pdf(x, mu, sigma))\n",
    "plt.show()\n"
   ]
  },
  {
   "cell_type": "markdown",
   "id": "cc9e3be1",
   "metadata": {},
   "source": [
    "# Q2: A test of breaking strengths of 6 ropes manufactured by a company showed a mean breakingstrength of 3515 kg and a standard deviation of 66 kg, whereas the manufacturer claimed a meanbreaking strength of 3630 kg. Can we support the manufacturer’s claim at a level of significanceof 0.05\n"
   ]
  },
  {
   "cell_type": "markdown",
   "id": "ecff935d",
   "metadata": {},
   "source": [
    "#step 1:\n",
    "H0: 𝜇=3630 kg. and the manufacturer’s claim is justified\n",
    "Ha: 𝜇< 3630 kg. and the manufacturer’s claim is not justified\n",
    "\n",
    "\n",
    "#Step 2: Significance Level =0.05\n"
   ]
  },
  {
   "cell_type": "code",
   "execution_count": 6,
   "id": "90792198",
   "metadata": {},
   "outputs": [
    {
     "data": {
      "text/plain": [
       "-2.0150483726691575"
      ]
     },
     "execution_count": 6,
     "metadata": {},
     "output_type": "execute_result"
    }
   ],
   "source": [
    " # step 3: Compute t_critical\n",
    "import numpy as np\n",
    "from scipy.stats import norm\n",
    "from scipy.stats import t\n",
    "t_critical=t.ppf(0.05,5) # Here 5 is degrees of freedom\n",
    "t_critical\n"
   ]
  },
  {
   "cell_type": "code",
   "execution_count": 7,
   "id": "93dfc30a",
   "metadata": {},
   "outputs": [
    {
     "data": {
      "text/plain": [
       "-3.896179051704179"
      ]
     },
     "execution_count": 7,
     "metadata": {},
     "output_type": "execute_result"
    }
   ],
   "source": [
    "# step 4:\n",
    "t_computed=((3515-3630)/66)*np.sqrt(5)\n",
    "t_computed\n"
   ]
  },
  {
   "cell_type": "markdown",
   "id": "7c87fb13",
   "metadata": {},
   "source": [
    "#step 5: Since t_computed < t_critical, we reject H0"
   ]
  },
  {
   "cell_type": "code",
   "execution_count": null,
   "id": "2071e3b5",
   "metadata": {},
   "outputs": [],
   "source": []
  },
  {
   "cell_type": "markdown",
   "id": "50257be6",
   "metadata": {},
   "source": [
    "# 03On the quant test of CAT Exam a sample of 25 test takers has a mean of  520 with population S.D of 100% construct a 95% of C.I above mean."
   ]
  },
  {
   "cell_type": "code",
   "execution_count": 8,
   "id": "d687152c",
   "metadata": {},
   "outputs": [],
   "source": [
    "#step 1:Ho: 𝜇=520 accept null hypothesis & H1:𝜇=/520 reject null hypothesis"
   ]
  },
  {
   "cell_type": "code",
   "execution_count": 9,
   "id": "a604a273",
   "metadata": {},
   "outputs": [],
   "source": [
    "#step 2:Significance value=0.05"
   ]
  },
  {
   "cell_type": "code",
   "execution_count": 25,
   "id": "20e795db",
   "metadata": {},
   "outputs": [
    {
     "data": {
      "text/plain": [
       "1.6448536269514729"
      ]
     },
     "execution_count": 25,
     "metadata": {},
     "output_type": "execute_result"
    }
   ],
   "source": [
    "# step 3: Compute z_critical\n",
    "import numpy as np\n",
    "from scipy.stats import norm\n",
    "z_critical=abs(norm.ppf(0.05))\n",
    "z_critical"
   ]
  },
  {
   "cell_type": "code",
   "execution_count": 30,
   "id": "585a86cd",
   "metadata": {},
   "outputs": [
    {
     "data": {
      "text/plain": [
       "487.10292746097053"
      ]
     },
     "execution_count": 30,
     "metadata": {},
     "output_type": "execute_result"
    }
   ],
   "source": [
    "# step 4:\n",
    "import numpy as np\n",
    "Lower_CI=(520- z_critical*(100/np.sqrt(25)))\n",
    "Lower_CI\n",
    "#Since z_computed is greater than 1.6448536269514729, there fore reject Ho and  hence claim can be supported."
   ]
  },
  {
   "cell_type": "code",
   "execution_count": 37,
   "id": "9ab945f6",
   "metadata": {},
   "outputs": [
    {
     "data": {
      "text/plain": [
       "552.8970725390294"
      ]
     },
     "execution_count": 37,
     "metadata": {},
     "output_type": "execute_result"
    }
   ],
   "source": [
    "# step 4:\n",
    "import numpy as np\n",
    "Hiegher_CI=(520+ z_critical*(100/np.sqrt(25)))\n",
    "Hiegher_CI\n",
    "#Since 90% of all values lies between upper CI and lower CI"
   ]
  },
  {
   "cell_type": "code",
   "execution_count": 36,
   "id": "9aa2176d",
   "metadata": {},
   "outputs": [
    {
     "data": {
      "image/png": "[encoded data removed]",
      "text/plain": [
       "<Figure size 432x288 with 1 Axes>"
      ]
     },
     "metadata": {
      "needs_background": "light"
     },
     "output_type": "display_data"
    }
   ],
   "source": [
    "import matplotlib.pyplot as plt\n",
    "import scipy.stats as stats\n",
    "import math\n",
    "\n",
    "\n",
    "mu = 520\n",
    "variance = 10000\n",
    "sigma = math.sqrt(variance)\n",
    "x = np.linspace(Lower_CI, Hiegher_CI, 10000)\n",
    "plt.fill_between(x,stats.norm.pdf(x, mu, sigma),where = (x>=487.10292746097053 ))\n",
    "plt.plot(x, stats.norm.pdf(x, mu, sigma))\n",
    "plt.show()\n"
   ]
  },
  {
   "cell_type": "markdown",
   "id": "afe7760a",
   "metadata": {},
   "source": [
    "# Q4: A factory has machine fills 80ml of TB medicine in a bottle ,an employ belive that Avg amount of TB medicine iss not 80ml, Using 40 samples he messured the Avg amount by machine is to be 78ml with S.D of 2.5\n",
    "A)State null and Alternative hypothesis\n",
    "B)At 95% CI there enough to support machine is working properly of not "
   ]
  },
  {
   "cell_type": "code",
   "execution_count": 38,
   "id": "884b6d78",
   "metadata": {},
   "outputs": [],
   "source": [
    "#step 1: Ho=80= 𝜇 Working properly\n",
    "#: H1=/80 not= 𝜇 not working properly"
   ]
  },
  {
   "cell_type": "code",
   "execution_count": 59,
   "id": "d6832e08",
   "metadata": {},
   "outputs": [
    {
     "data": {
      "text/plain": [
       "1.9599639845400545"
      ]
     },
     "execution_count": 59,
     "metadata": {},
     "output_type": "execute_result"
    }
   ],
   "source": [
    "# step 3: Compute z_critical\n",
    "import numpy as np\n",
    "from scipy.stats import norm\n",
    "z_critical=abs(norm.ppf(0.025))\n",
    "z_critical"
   ]
  },
  {
   "cell_type": "code",
   "execution_count": 64,
   "id": "376a634f",
   "metadata": {},
   "outputs": [
    {
     "data": {
      "text/plain": [
       "-5.059644256269408"
      ]
     },
     "execution_count": 64,
     "metadata": {},
     "output_type": "execute_result"
    }
   ],
   "source": [
    "# step 4:\n",
    "Lower_CI=((78-80)/2.5)*np.sqrt(40)\n",
    "Lower_CI\n",
    "#Since Lower_CI is less than 1.9599639845400545, there fore reject Ho and  machine is not working properly."
   ]
  },
  {
   "cell_type": "code",
   "execution_count": 70,
   "id": "c62fb9cd",
   "metadata": {},
   "outputs": [
    {
     "data": {
      "text/plain": [
       "399.7118962452832"
      ]
     },
     "execution_count": 70,
     "metadata": {},
     "output_type": "execute_result"
    }
   ],
   "source": [
    "Hiegher_CI=((78+80)/2.5)*np.sqrt(40)\n",
    "Hiegher_CI"
   ]
  },
  {
   "cell_type": "code",
   "execution_count": 66,
   "id": "8db84ac9",
   "metadata": {},
   "outputs": [
    {
     "data": {
      "image/png": "[encoded data removed]",
      "text/plain": [
       "<Figure size 432x288 with 1 Axes>"
      ]
     },
     "metadata": {
      "needs_background": "light"
     },
     "output_type": "display_data"
    }
   ],
   "source": [
    "import matplotlib.pyplot as plt\n",
    "import scipy.stats as stats\n",
    "import math\n",
    "\n",
    "\n",
    "mu = 80\n",
    "variance = 6.25\n",
    "sigma = math.sqrt(variance)\n",
    "x = np.linspace(mu - 3*sigma, mu + 3*sigma, 100)\n",
    "plt.fill_between(x,stats.norm.pdf(x, mu, sigma),where = (x<=1.9599639845400545))\n",
    "plt.plot(x, stats.norm.pdf(x, mu, sigma))\n",
    "plt.show()"
   ]
  },
  {
   "cell_type": "code",
   "execution_count": null,
   "id": "e8c881e8",
   "metadata": {},
   "outputs": [],
   "source": []
  },
  {
   "cell_type": "code",
   "execution_count": null,
   "id": "9bd43d7a",
   "metadata": {},
   "outputs": [],
   "source": []
  },
  {
   "cell_type": "code",
   "execution_count": null,
   "id": "21b3ac7b",
   "metadata": {},
   "outputs": [],
   "source": []
  },
  {
   "cell_type": "code",
   "execution_count": null,
   "id": "2e89f94f",
   "metadata": {},
   "outputs": [],
   "source": []
  },
  {
   "cell_type": "code",
   "execution_count": null,
   "id": "91b4011e",
   "metadata": {},
   "outputs": [],
   "source": []
  }
 ],
 "metadata": {
  "kernelspec": {
   "display_name": "Python 3 (ipykernel)",
   "language": "python",
   "name": "python3"
  },
  "language_info": {
   "codemirror_mode": {
    "name": "ipython",
    "version": 3
   },
   "file_extension": ".py",
   "mimetype": "text/x-python",
   "name": "python",
   "nbconvert_exporter": "python",
   "pygments_lexer": "ipython3",
   "version": "3.9.12"
  }
 },
 "nbformat": 4,
 "nbformat_minor": 5
}
